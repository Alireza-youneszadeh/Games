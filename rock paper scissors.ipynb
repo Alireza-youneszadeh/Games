{
  "nbformat": 4,
  "nbformat_minor": 0,
  "metadata": {
    "colab": {
      "provenance": []
    },
    "kernelspec": {
      "name": "python3",
      "display_name": "Python 3"
    },
    "language_info": {
      "name": "python"
    }
  },
  "cells": [
    {
      "cell_type": "code",
      "execution_count": 21,
      "metadata": {
        "colab": {
          "base_uri": "https://localhost:8080/"
        },
        "id": "zvgGVZgyZYHu",
        "outputId": "5de5a161-deee-40b6-d483-56db2bc5fb32"
      },
      "outputs": [
        {
          "output_type": "stream",
          "name": "stdout",
          "text": [
            "how many times do you wish to play?2\n",
            "rock\n",
            "paper\n",
            "scissors\n",
            "which one ?scissors\n",
            "bravo scissors\n",
            "rock\n",
            "paper\n",
            "scissors\n",
            "which one ?rock\n",
            "wrong scissors\n",
            "do you want to continue?(yes or no)no\n",
            "the number of wins is 1\n"
          ]
        }
      ],
      "source": [
        "import time\n",
        "import random\n",
        "win=0\n",
        "rock='rock'\n",
        "scissors='scissors'\n",
        "paper='paper'\n",
        "state=True\n",
        "times=int(input('how many times do you wish to play?'))\n",
        "r=times\n",
        "while 0<r<=times:\n",
        "      a=random.randint(1,3)\n",
        "      if a==1:\n",
        "        a=rock\n",
        "      elif a==2:\n",
        "        a=scissors\n",
        "      else:\n",
        "        a=paper\n",
        "      print('rock')\n",
        "      time.sleep(2)\n",
        "      print('paper')\n",
        "      time.sleep(2)\n",
        "      print('scissors')\n",
        "      b=input('which one ?')\n",
        "      if b==a:\n",
        "         win+=1\n",
        "         print('bravo',a)\n",
        "      else:\n",
        "        print('wrong',a)\n",
        "      r-=1\n",
        "      if r<1:\n",
        "         state=input('do you want to continue?(yes or no)')\n",
        "         r=times\n",
        "      if state=='no':\n",
        "         break\n",
        "print(f'the number of wins is {win}')"
      ]
    }
  ]
}