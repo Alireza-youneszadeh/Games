{
  "nbformat": 4,
  "nbformat_minor": 0,
  "metadata": {
    "colab": {
      "provenance": []
    },
    "kernelspec": {
      "name": "python3",
      "display_name": "Python 3"
    },
    "language_info": {
      "name": "python"
    }
  },
  "cells": [
    {
      "cell_type": "code",
      "execution_count": 18,
      "metadata": {
        "colab": {
          "base_uri": "https://localhost:8080/"
        },
        "id": "PL9zDttoTd9C",
        "outputId": "4d32c99b-2e5c-4ef7-ee2a-aea6db646247"
      },
      "outputs": [
        {
          "name": "stdout",
          "output_type": "stream",
          "text": [
            "right or left or neitherright\n",
            "wrong left\n",
            "try again?no\n",
            "do you continueno\n"
          ]
        }
      ],
      "source": [
        "import random\n",
        "start='yes'\n",
        "state=['right','left','neither']\n",
        "while start=='yes':\n",
        "      choice=input('right or left or neither')\n",
        "      ran_index=random.randint(0,len(state)-1)\n",
        "      ran_choice=state[ran_index]\n",
        "      if choice==ran_choice:\n",
        "         print('bravo')\n",
        "      else:\n",
        "         print('wrong',ran_choice)\n",
        "      start=input('try again?')\n",
        "      if start!='yes':\n",
        "         start=input('do you continue')\n",
        "      elif start==\"no\":\n",
        "           print('thank you')\n",
        "           break\n"
      ]
    }
  ]
}